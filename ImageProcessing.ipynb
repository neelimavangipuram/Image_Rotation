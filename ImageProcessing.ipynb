{
 "cells": [
  {
   "cell_type": "code",
   "execution_count": 606,
   "metadata": {},
   "outputs": [],
   "source": [
    "import numpy as np\n",
    "import pandas as pd\n",
    "from matplotlib import pylab as plt\n",
    "from __future__ import division\n",
    "import math\n",
    "\n",
    "A = pd.read_csv(\"F:/Spring 2018/Internship/Quantumscape/rotated.csv\")\n",
    "rows = A.shape[0]\n",
    "columns = A.shape[1]\n",
    "A = np.array(A)"
   ]
  },
  {
   "cell_type": "code",
   "execution_count": 607,
   "metadata": {},
   "outputs": [],
   "source": [
    "A = A.flatten().reshape([rows, columns]).transpose()"
   ]
  },
  {
   "cell_type": "code",
   "execution_count": 608,
   "metadata": {},
   "outputs": [
    {
     "name": "stdout",
     "output_type": "stream",
     "text": [
      "[[0 0 0 ..., 0 0 0]\n",
      " [0 0 0 ..., 0 0 0]\n",
      " [0 0 0 ..., 0 0 0]\n",
      " ..., \n",
      " [0 0 0 ..., 0 0 0]\n",
      " [0 0 0 ..., 0 0 0]\n",
      " [0 0 0 ..., 0 0 0]]\n"
     ]
    }
   ],
   "source": [
    "print(A)"
   ]
  },
  {
   "cell_type": "code",
   "execution_count": 609,
   "metadata": {},
   "outputs": [
    {
     "data": {
      "text/plain": [
       "<matplotlib.image.AxesImage at 0x260cc0c0b00>"
      ]
     },
     "execution_count": 609,
     "metadata": {},
     "output_type": "execute_result"
    },
    {
     "data": {
      "image/png": "[encoded data removed]",
      "text/plain": [
       "<matplotlib.figure.Figure at 0x260cc0a2f98>"
      ]
     },
     "metadata": {},
     "output_type": "display_data"
    }
   ],
   "source": [
    "plt.imshow(A)"
   ]
  },
  {
   "cell_type": "code",
   "execution_count": 610,
   "metadata": {},
   "outputs": [
    {
     "name": "stdout",
     "output_type": "stream",
     "text": [
      "Top-most corner co-ordinates\n",
      "(x = 200 , y = 9 )\n"
     ]
    }
   ],
   "source": [
    "# Get the top-most corner for the x-axis\n",
    "iTopCorner = 0\n",
    "jTopCorner = 0\n",
    "singleTopRow = []\n",
    "for i, row in enumerate(A):\n",
    "    if list(row).count(1) == 1:\n",
    "        jTopCorner = i\n",
    "        singleTopRow.append(row)\n",
    "\n",
    "for j, col in enumerate(singleTopRow[0]):\n",
    "    if col == 1:\n",
    "        iTopCorner = j\n",
    "\n",
    "print('Top-most corner co-ordinates')\n",
    "print('(x =', iTopCorner,', y =', jTopCorner, ')')"
   ]
  },
  {
   "cell_type": "code",
   "execution_count": 611,
   "metadata": {},
   "outputs": [
    {
     "name": "stdout",
     "output_type": "stream",
     "text": [
      "Right-most corner co-ordinates\n",
      "(x = 400 , y = 149 )\n"
     ]
    }
   ],
   "source": [
    "# Get the right-most corner from the y-axis\n",
    "iRightCorner = 0\n",
    "jRightCorner = 0\n",
    "singleRightRow = []\n",
    "\n",
    "for i, row in enumerate(A.transpose()):\n",
    "    if list(row).count(1) == 1:\n",
    "        iRightCorner = i\n",
    "        singleRightRow.append(row)\n",
    "        \n",
    "for j, col in enumerate(singleLeftRow[0]):\n",
    "    if col == 1:\n",
    "        jRightCorner = j\n",
    "\n",
    "print('Right-most corner co-ordinates')\n",
    "print('(x =', iRightCorner,', y =', jRightCorner, ')')"
   ]
  },
  {
   "cell_type": "code",
   "execution_count": 612,
   "metadata": {},
   "outputs": [],
   "source": [
    "class Point:\n",
    "    def __init__ (self, x, y):\n",
    "        self.x = x\n",
    "        self.y = y"
   ]
  },
  {
   "cell_type": "code",
   "execution_count": 613,
   "metadata": {},
   "outputs": [],
   "source": [
    "def getSlope(pointA, pointB):\n",
    "    rise = float(pointA.y) - float(pointB.y)\n",
    "    run = float(pointA.x) - float(pointB.x)\n",
    "    slope = rise/run\n",
    "\n",
    "    return slope"
   ]
  },
  {
   "cell_type": "code",
   "execution_count": 614,
   "metadata": {},
   "outputs": [],
   "source": [
    "#slope of outer rectangle line\n",
    "p1 = Point(0, 0)\n",
    "p2 = Point(iTopCorner, 0)\n",
    "\n",
    "m2 = getSlope(p1, p2)"
   ]
  },
  {
   "cell_type": "code",
   "execution_count": 615,
   "metadata": {},
   "outputs": [],
   "source": [
    "#slope of inner rectangle line\n",
    "p3 = Point(iTopCorner, jTopCorner)\n",
    "p4 = Point(iRightCorner, jRightCorner)\n",
    "\n",
    "m1 = getSlope(p3, p4)"
   ]
  },
  {
   "cell_type": "code",
   "execution_count": 616,
   "metadata": {},
   "outputs": [],
   "source": [
    "tanTheta = (m2 - m1)/(1 + (m1 * m2))"
   ]
  },
  {
   "cell_type": "code",
   "execution_count": 617,
   "metadata": {},
   "outputs": [
    {
     "name": "stdout",
     "output_type": "stream",
     "text": [
      "-35\n",
      "55\n"
     ]
    }
   ],
   "source": [
    "rotated_angle = math.degrees(math.atan(tanTheta))\n",
    "\n",
    "print(\"%d\" % round(rotated_angle, 0))\n",
    "print(90 + int(\"%d\" % round(rotated_angle, 0)))"
   ]
  },
  {
   "cell_type": "code",
   "execution_count": 618,
   "metadata": {},
   "outputs": [
    {
     "data": {
      "text/plain": [
       "<matplotlib.image.AxesImage at 0x260cc106cc0>"
      ]
     },
     "execution_count": 618,
     "metadata": {},
     "output_type": "execute_result"
    },
    {
     "data": {
      "image/png": "[encoded data removed]",
      "text/plain": [
       "<matplotlib.figure.Figure at 0x260cc025dd8>"
      ]
     },
     "metadata": {},
     "output_type": "display_data"
    }
   ],
   "source": [
    "# Verifying\n",
    "from scipy import ndimage\n",
    "from scipy import misc\n",
    "\n",
    "rotate_face_noreshape = ndimage.rotate(A.transpose(), rotated_angle, reshape = False)\n",
    "plt.imshow(rotate_face_noreshape)"
   ]
  }
 ],
 "metadata": {
  "kernelspec": {
   "display_name": "Python 3",
   "language": "python",
   "name": "python3"
  },
  "language_info": {
   "codemirror_mode": {
    "name": "ipython",
    "version": 3
   },
   "file_extension": ".py",
   "mimetype": "text/x-python",
   "name": "python",
   "nbconvert_exporter": "python",
   "pygments_lexer": "ipython3",
   "version": "3.6.4"
  }
 },
 "nbformat": 4,
 "nbformat_minor": 2
}
